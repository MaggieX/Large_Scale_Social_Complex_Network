{
 "cells": [
  {
   "cell_type": "markdown",
   "metadata": {},
   "source": [
    "# Project 3: \n",
    "## Reinforcement Learning and Inverse Reinforcement Learning"
   ]
  },
  {
   "cell_type": "markdown",
   "metadata": {},
   "source": [
    "## 1. Introduction\n",
    "**Reinforcement Learning (RL)** is the task of learning from interaction to achieve a goal. The learner and the decision maker is called the **agent**. The thing it interacts with, comprising everything outside the agent, is called the **environment**. These interact continually, the agent selecting actions and the environment responding to those actions by presenting rewards and new states.\n",
    "\n",
    "In the first part of the project, we learn the **optimal policy** of an agent navigating in a 2-D environment. We  implement the **Value iteration algorithm** to learn the optimal policy. \n",
    "\n",
    "**Inverse Reinforcement Learning (IRL)** is the task of extracting an expert's reward function by observing the optimal policy of the expert. In the second part of the project, we will explore the application of IRL in the context of apprenticeship learning."
   ]
  },
  {
   "cell_type": "markdown",
   "metadata": {},
   "source": [
    "## 2. Reinforcement Learning (RL)\n",
    "The two main objects in Reinforcement learning are:\n",
    "- Agent\n",
    "- Environment\n",
    "In this project, we learn the optimal policy of a single agent navigating in a 2D environment."
   ]
  },
  {
   "cell_type": "markdown",
   "metadata": {},
   "source": [
    "### 2.1 Environment\n",
    "In this project, we assume that the environment of the agent is modeled by a **Markov Decision Process (MDP)**. In a MDP, agents occupy a state of the environment and perform actions to change the state they are in. After taking an action, they are given some representation of the new state and some reward value associated with the new state.\n",
    "![MDP](img/mdp.png)"
   ]
  },
  {
   "cell_type": "markdown",
   "metadata": {},
   "source": [
    "In the next few subsections, we will discuss the parameters that will be used to generate the environment for the project."
   ]
  },
  {
   "cell_type": "markdown",
   "metadata": {},
   "source": [
    "#### 2.1.1 State Space\n",
    "In this project, we consider the state space to be a 2-D square grid with 100 states. The 2-D square grid along with the numbering of the states is shown in Figure 1.\n",
    "![Figure 1: 2-D square grid with state numbering](img/fig1.png)"
   ]
  },
  {
   "cell_type": "markdown",
   "metadata": {},
   "source": [
    "#### 2.1.2 Action Set\n",
    "Action set ($A$) contains four following actions:\n",
    "- Move right\n",
    "- Move left\n",
    "- Move Up\n",
    "- Move Down\n",
    "\n",
    "The 4 types of actions are displayed in Figure 2:\n",
    "![actions](img/fig2.png)"
   ]
  },
  {
   "cell_type": "markdown",
   "metadata": {},
   "source": [
    "From the above Figure, we can see that the agent can take 4 actions from the state marked with a dot."
   ]
  },
  {
   "cell_type": "markdown",
   "metadata": {},
   "source": [
    "#### 2.1.3 Transition Probabilities\n",
    "In this project, we define the transition probabilities in the following manner:\n",
    "1. If state $s'$ and $s$ are not neighboring states in the 2-D grid, then **P**($s_{t+1} = s'|s_t = s, a_t = a$) = 0. $s'$ and $s$ are neighbors in the 2-D grid if you can move to $s'$ from $s$ by taking an action a from the action set $A$. We will consider a state $s$ to be a neighbor of itself. For example, from Figure 1 we can observe that states 1 and 11 are neighbors (we can transition from 1 to 11 by moving right) but states 1 and 12 are not neighbors.\n",
    "\n",
    "2. Each action corresponds to a movement in the intended direction with probability 1 - $w$, but has a probability of $w$ of moving in a random direction instead due to wind. To illustrate this, let's consider the states shown in Figure 3\n",
    "![title](img/fig3.png)\n",
    "\n",
    "The transition probabilities for the non-boundary states shown in figure 3 are given below:\n",
    "![title](img/trans_prob.png)\n",
    "From the above calculation it can be observed that if the agent is at a non-\n",
    "boundary state then it has 4 neighbors excluding itself and the probability\n",
    "w is uniformly distributed over the 4 neighbors. Also, if the agent is at\n",
    "a non-boundary state then it transitions to a new state after taking an\n",
    "action (**P**($s_{t+1} = 44|s_t = 44, a_t = \\uparrow$) = 0)\n",
    "\n",
    "3. If the agent is at one of the four corner states (0,9,90,99), the agent stays at the current state if it takes an action to move off the grid or is blown off the grid by wind. The actions can be divided into two categories:\n",
    "\n",
    "-- Action to move off the grid\n",
    "\n",
    "-- Action to stay in the grid\n",
    "\n",
    "To illustrate this, let's consider the states shown in Figure 4:\n",
    "![title](img/fig4.png)\n",
    "\n",
    "The transition probabilities for taking an action to move off the grid are given below:\n",
    "![trans](img/trans_fig4_1.png)\n",
    "\n",
    "The transition probabilities for taking an action to stay in the grid are given below:\n",
    "![trans](img/trans_fig4_2.png)\n",
    "\n",
    "At a corner state, you can be blown off the grid in two directions. As a result, we have **P**($s_{t+1} = 0|s_t = 0, a_t = \\rightarrow$) = $w$/4 + $w$/4 since we can be blown off the grid in two directions and in both the cases we stay at the current state.\n",
    "\n",
    "4. If the agent is at one of the edge states, the agent stays at the current state if it takes an action to move off the grid or is blown off the grid by wind. The actions can be divided into two categories:\n",
    "\n",
    "-- Action to move off the grid\n",
    "\n",
    "-- Action to stay in the grid\n",
    "\n",
    "To illustrate this, let's consider the states shown in Figure 5:\n",
    "![edge states](img/fig5.png)\n",
    "\n",
    "The transition probabilities for taking an action to move off the grid are given below:\n",
    "![trans_prob](img/trans_fig5_1.png)\n",
    "The transition probabilities for taking an action to stay in the grid are given below:\n",
    "![trans_prob](img/trans_fig5_2.png)\n",
    "\n",
    "At an edge state, you can be blown off the grid in one direction. As a result, we have **P**($s_{t+1} = 1|s_t = 1, a_t = \\uparrow$) = $w$/4 since we can be blown off the grid in one direction and in that case we stay at the current state.\n",
    "\n",
    "The main difference between a corner state and an edge state is that a corner state has 2 neighbors and an edge state has 3 neighbors."
   ]
  },
  {
   "cell_type": "markdown",
   "metadata": {},
   "source": [
    "#### 2.1.4. Reward Function\n",
    "To simplify the project, we will assume that the reward function is independent of the current state ($s$) and the action that you take at the current state ($a$).\n",
    "\n",
    "To be specific, reward function only depends on the state that you transition to\n",
    "($s'$). \n",
    "\n",
    "With this simplifcation, we have $R^a_{ss'}$ = *R*(*s'*)\n",
    "\n",
    "In this project, we learn the optimal policy of an agent for two different reward functions:\n",
    "- Reward function 1\n",
    "- Reward function 2\n",
    "\n",
    "The two different reward functions are displayed in Figures 6 and 7 respectively\n",
    "![Reward Funciton 1](img/fig6.png)\n",
    "![Reward Function 2](img/fig7.png)"
   ]
  },
  {
   "cell_type": "markdown",
   "metadata": {},
   "source": [
    "#### Question 1: \n",
    "For visualization purpose, generate heat maps of Reward function 1 and Reward function 2. For the heat maps, make sure you display the coloring scale. You will have 2 plots for this question.\n",
    "\n",
    "Reference function: https://matplotlib.org/api/_as_gen/matplotlib.pyplot.pcolor.html"
   ]
  },
  {
   "cell_type": "code",
   "execution_count": 1,
   "metadata": {},
   "outputs": [],
   "source": [
    "import numpy as np\n",
    "import matplotlib.pyplot as plt"
   ]
  },
  {
   "cell_type": "code",
   "execution_count": 2,
   "metadata": {},
   "outputs": [],
   "source": [
    "reward1 = np.array([[0, 0, 0, 0, 0, 0, 0, 0, 0, 0],\n",
    "                   [0, 0, 0, 0, 0, 0, 0, 0, 0, 0],\n",
    "                   [0, 0, 0, 0, 0, -10, -10, 0, 0, 0],\n",
    "                   [0, 0, 0, 0, 0, -10, -10, 0, 0, 0],\n",
    "                   [0, -10, -10, 0, 0, 0, 0, 0, 0, 0],\n",
    "                   [0, -10, -10, 0, 0, 0, 0, 0, 0, 0],\n",
    "                   [0, 0, 0, 0, 0, 0, 0, 0, 0, 0],\n",
    "                   [0, 0, 0, 0, 0, 0, 0, 0, 0, 0],\n",
    "                   [0, 0, -10, -10, 0, 0, 0, 0, 0, 0],\n",
    "                   [0, 0, -10, -10, 0, 0, 0, 0, 0, 1]]\n",
    "                  )\n",
    "reward2 = np.array([[0, 0, 0, 0, 0, 0, 0, 0, 0, 0],\n",
    "                   [0, 0, 0, 0, -100, -100, -100, 0, 0, 0],\n",
    "                   [0, 0, 0, 0, -100, 0, -100, 0, 0, 0],\n",
    "                   [0, 0, 0, 0, -100, 0, -100, -100, -100, 0],\n",
    "                   [0, 0, 0, 0, -100, 0, 0, 0, -100, 0],\n",
    "                   [0, 0, 0, 0, -100, 0, 0, 0, -100, 0],\n",
    "                   [0, 0, 0, 0, -100, 0, 0, 0, -100, 0],\n",
    "                   [0, 0, 0, 0, 0, 0, -100, -100, -100, 0],\n",
    "                   [0, 0, 0, 0, 0, 0, -100, 0, 0, 0],\n",
    "                   [0, 0, 0, 0, 0, 0, 0, 0, 0, 10]]\n",
    "                  )"
   ]
  },
  {
   "cell_type": "code",
   "execution_count": 3,
   "metadata": {},
   "outputs": [],
   "source": [
    "def plot_heatmap(arr, title):\n",
    "    plt.figure(figsize=(6, 6))\n",
    "    plt.imshow(arr, cmap='hot')\n",
    "    plt.colorbar()\n",
    "#     plt.gca().invert_yaxis()\n",
    "    plt.show()\n",
    "\n",
    "def plot_grid_value(n, V, title):\n",
    "    plt.figure(figsize=(6, 6))\n",
    "    plt.imshow(np.zeros((n, n)), cmap='hot', vmin=-1, vmax=0)\n",
    "    for (j, i), v in np.ndenumerate(V):\n",
    "        if isinstance(v, str):\n",
    "            plt.text(i, j, v, ha='center', va='center')\n",
    "        else:\n",
    "            plt.text(i, j, round(v, 3), ha='center', va='center')\n",
    "    for i in range(n - 1):\n",
    "        plt.vlines(0.5 + i, -0.5, 9.5)\n",
    "        plt.hlines(0.5 + i, -0.5, 9.5)\n",
    " \n",
    "    plt.title(title)\n",
    "    plt.show()\n",
    "    \n",
    "def plot_policy(n, pi, title):\n",
    "    arrows = ['←','→', '↑','↓']\n",
    "    pi_arrow = [['' for i in range(n)] for j in range(n)]\n",
    "    for i in range(n):\n",
    "        for j in range(n):\n",
    "            pi_arrow[i][j] = arrows[int(pi[i, j])]\n",
    "    plot_grid_value(n, pi_arrow, title)"
   ]
  },
  {
   "cell_type": "code",
   "execution_count": 4,
   "metadata": {},
   "outputs": [
    {
     "data": {
      "image/png": "[encoded data removed]",
      "text/plain": [
       "<Figure size 432x432 with 2 Axes>"
      ]
     },
     "metadata": {
      "needs_background": "light"
     },
     "output_type": "display_data"
    },
    {
     "data": {
      "image/png": "[encoded data removed]",
      "text/plain": [
       "<Figure size 432x432 with 2 Axes>"
      ]
     },
     "metadata": {
      "needs_background": "light"
     },
     "output_type": "display_data"
    }
   ],
   "source": [
    "plot_heatmap(reward1, 'Heat map of Reward function 1')\n",
    "plot_heatmap(reward2, 'Heat map of Reward function 2')"
   ]
  },
  {
   "cell_type": "markdown",
   "metadata": {},
   "source": [
    "## 3. Optimal policy learning using RL algorithms"
   ]
  },
  {
   "cell_type": "markdown",
   "metadata": {},
   "source": [
    "In this part of the project, we will use reinforcement learning (RL) algorithm\n",
    "to find the optimal policy. The main steps in RL algorithm are:\n",
    "- Find optimal state-value or action-value\n",
    "- Use the optimal state-value or action-value to determine the deterministic optimal policy\n",
    "\n",
    "There are a couple of RL algorithms, but we will use the *Value iteration algorithm* since it was discussed in detail in the lecture. We will skip the derivation of the algorithm here because it was covered in the lecture (for the derivation details please refer to the lecture slides on Reinforcement learning). We will just reproduce the algorithm below for the ease of implementation:\n",
    "![title](img/opt_policy.png)"
   ]
  },
  {
   "cell_type": "markdown",
   "metadata": {},
   "source": [
    "#### Question 2: \n",
    "Create the environment of the agent using the information provided in **Section 2**. To be specific, create the MDP by setting up the state-space, action set, transition probabilities, discount factor, and reward function. For creating the environment, use the following set of parameters:\n",
    "\n",
    "• Number of states |$S$| = 100 (state space is a 10 by 10 square grid as displayed\n",
    "in figure 1, n = 10)\n",
    "\n",
    "• Number of actions |$A$|= 4 (set of possible actions is displayed in figure 2)\n",
    "\n",
    "• $w$ = 0.1\n",
    "\n",
    "• Discount factor $\\gamma$ = 0.8\n",
    "\n",
    "• Reward function 1\n",
    "\n",
    "After you have created the environment, then write an optimal state-value function that takes as input the environment of the agent and outputs the optimal value of each state in the grid. For the optimal state-value function, you have to implement the Initialization (lines 2-4) and Estimation (lines 5-13) steps of the Value Iteration algorithm. For the estimation step, use $\\epsilon$ = 0.01. For visualization purpose, you should generate a figure similar to that of figure 1 but with the number of state replaced by the optimal value of that state. In this part of question, you should have 1 plot.\n",
    "\n",
    "Let’s assume that your value iteration algorithm converges in N steps. Plot snapshots of state values in 5 different steps linearly distributed from 1 to N. Report N and your step numbers. What observations do you have from the plots?"
   ]
  },
  {
   "cell_type": "code",
   "execution_count": 24,
   "metadata": {},
   "outputs": [],
   "source": [
    "class Environment():\n",
    "    \n",
    "    def __init__(self, n, na, w, gamma, reward):\n",
    "        # initialize parameters \n",
    "        # n for single dimension length, na for number of actions\n",
    "        # w for random prob., gamma for discount factor\n",
    "        self.n = n\n",
    "        self.na = na\n",
    "        self.w = w\n",
    "        self.gamma = gamma\n",
    "        # initialize reward function\n",
    "        self.reward = reward\n",
    "        \n",
    "        # initialize the states\n",
    "        self.states = []\n",
    "        for i in range(self.n):\n",
    "            for j in range(self.n):\n",
    "                self.states.append((i, j))\n",
    "        \n",
    "        # initialize the actions, 0, 1, 2, 3 = left, right, up, down\n",
    "        self.actions = [0, 1, 2, 3]\n",
    "        \n",
    "        # initialize transition_matrix (A, S, S')\n",
    "        self.transition_matrix = np.zeros((self.na, self.n**2, self.n**2))\n",
    "        \n",
    "    def get_candi(self, s, a):\n",
    "        # generate candidate states and corresponding probs.\n",
    "        # clipping with min max allows candidates of corner/edge states to be itself.\n",
    "        candi = [(s[0], max(s[1]-1, 0)), (s[0], min(self.n-1, s[1]+1)),\n",
    "                 (max(s[0]-1, 0), s[1]), (min(self.n-1, s[0]+1), s[1])]\n",
    "        \n",
    "        # all cancidates can be randomly visited\n",
    "        prob = [self.w / self.na for i in range(self.na)]\n",
    "        # the action specific state has larger probability 1-w to be visited \n",
    "        prob[a] += (1 - self.w)\n",
    "        \n",
    "        return candi, prob\n",
    "    \n",
    "    def cor2ind(self, s):\n",
    "        return self.n * s[0] + s[1]\n",
    "    \n",
    "    def ind2cor(self, i):\n",
    "        return (i // self.n, i % self.n)\n",
    "    \n",
    "    def create_transition_matrix(self, policy=None):\n",
    "        \n",
    "        self.transition_matrix = np.zeros((self.na, self.n**2, self.n**2))\n",
    "        if policy is None:\n",
    "        # create_transition_matrix based on environment\n",
    "            for a in self.actions:\n",
    "                for i, s in enumerate(self.states):\n",
    "                    candi, prob = self.get_candi(s, a)\n",
    "                    for j in range(self.na):\n",
    "                        self.transition_matrix[a, i, self.cor2ind(candi[j])] += prob[j]\n",
    "        \n",
    "        # create_transition_matrix based on policy\n",
    "        else:\n",
    "            for i, s in enumerate(self.states):\n",
    "                a_opt = policy[s]\n",
    "                count = 1\n",
    "                for a in self.actions:\n",
    "                    candi, prob = self.get_candi(s, a)\n",
    "                    if a == a_opt:\n",
    "                        for j in range(self.na):\n",
    "                            self.transition_matrix[0, i, self.cor2ind(candi[j])] += prob[j]\n",
    "                    else:\n",
    "                        for j in range(self.na):\n",
    "                            self.transition_matrix[count, i, self.cor2ind(candi[j])] += prob[j]\n",
    "                        count += 1\n",
    "                        \n",
    "    def get_expectation(self, s, a, V):\n",
    "        # calculate the value expectation of taking action a at state s\n",
    "        # V is the value function calculated at early episode\n",
    "        candi, prob = self.get_candi(s, a)\n",
    "        expectation = sum([prob[i]*(self.reward[candi[i]] + self.gamma*V[candi[i]]) \n",
    "                           for i in range(self.na)])       \n",
    "        return expectation\n",
    "    \n",
    "    def step(self, s, a):\n",
    "        candi, prob = self.get_candi(s, a)\n",
    "        sp = np.random.choice(candi, 1, prob=prob)\n",
    "        r = self.reward[a]\n",
    "        return sp, r\n",
    "    \n",
    "    def set_w(self, w):\n",
    "        self.w = w\n",
    "    \n",
    "    def get_stateslen(self):\n",
    "        return self.n\n",
    "    \n",
    "    def get_states(self):\n",
    "        return self.states\n",
    "    \n",
    "    def get_actions(self):\n",
    "        return self.actions\n",
    "    \n",
    "    def get_transition_matrix(self, policy=None):\n",
    "        self.create_transition_matrix(policy)\n",
    "        return self.transition_matrix"
   ]
  },
  {
   "cell_type": "code",
   "execution_count": 6,
   "metadata": {},
   "outputs": [],
   "source": [
    "def value_iteration(env, eps, snapshots=False):\n",
    "    \"\"\"\n",
    "    inputs:\n",
    "      environment: \n",
    "      n, na, w \n",
    "      gamma     RL discount\n",
    "      reward    N x 1 (N: number of states)\n",
    "      \n",
    "      eps       estimation error epsilon, threshold for stop\n",
    "    \n",
    "    returns:\n",
    "      policy    N x 1 \n",
    "      values    N x 1 \n",
    "    \"\"\"\n",
    "    # initialize value function\n",
    "    pi = np.zeros((env.get_stateslen(), env.get_stateslen()))\n",
    "    V = np.zeros((env.get_stateslen(), env.get_stateslen()))\n",
    "    delta = np.Inf\n",
    "    steps = 0\n",
    "    while delta > eps:\n",
    "        steps += 1\n",
    "        delta = 0\n",
    "        for s in env.get_states():\n",
    "            v = -np.Inf\n",
    "            for a in env.get_actions():\n",
    "                v = max(v, env.get_expectation(s, a, V))\n",
    "            delta = max(delta, abs(v-V[s]))\n",
    "            V[s] = v\n",
    "    \n",
    "    # Computation Step\n",
    "    for s in env.get_states():\n",
    "        v = -np.Inf\n",
    "        for a in env.get_actions():\n",
    "            exp = env.get_expectation(s, a, V)\n",
    "            if exp > v:\n",
    "                v = exp\n",
    "                pi[s] = a\n",
    "    \n",
    "    # This is the snapshots required only for Q2. \n",
    "    # Basically for V.I. using 'pi, V = value_iteration(env, eps)' is enough \n",
    "    if snapshots:\n",
    "        V = np.zeros((env.get_stateslen(), env.get_stateslen()))\n",
    "        shot_interval = steps // 5\n",
    "        shots = []\n",
    "        for i in range(steps):\n",
    "            for s in env.get_states():\n",
    "                v = -np.Inf\n",
    "                for a in env.get_actions():\n",
    "                    v = max(v, env.get_expectation(s, a, V))\n",
    "                V[s] = v\n",
    "            if i != 0 and i % shot_interval == 0:\n",
    "                shots.append(V.copy())\n",
    "        return steps, shots, pi, V\n",
    "    else:\n",
    "        return pi, V"
   ]
  },
  {
   "cell_type": "code",
   "execution_count": 31,
   "metadata": {},
   "outputs": [
    {
     "data": {
      "image/png": "[encoded data removed]",
      "text/plain": [
       "<Figure size 432x432 with 1 Axes>"
      ]
     },
     "metadata": {
      "needs_background": "light"
     },
     "output_type": "display_data"
    },
    {
     "data": {
      "image/png": "[encoded data removed]",
      "text/plain": [
       "<Figure size 432x432 with 1 Axes>"
      ]
     },
     "metadata": {
      "needs_background": "light"
     },
     "output_type": "display_data"
    }
   ],
   "source": [
    "### test cell\n",
    "n = 10\n",
    "na = 4\n",
    "w = 0.1\n",
    "gamma = 0.8\n",
    "# estimation step epsilon\n",
    "eps = 0.01\n",
    "\n",
    "env1 = Environment(n, na, w, gamma, reward1)\n",
    "# env1.create_transition_matrix()\n",
    "tm = env1.get_transition_matrix()\n",
    "\n",
    "env1 = Environment(n, na, w, gamma, reward1)\n",
    "pi_1, V_1 = value_iteration(env1, eps)\n",
    "\n",
    "plot_policy(n, pi_1, 'Optimal policy showing in arrows using Reward 1')\n",
    "\n",
    "tm = env1.get_transition_matrix(pi_1)\n",
    "\n",
    "plot_grid_value(n, tm[0][15].reshape((n, n)), 'test')"
   ]
  },
  {
   "cell_type": "code",
   "execution_count": null,
   "metadata": {},
   "outputs": [],
   "source": [
    "# state space size\n",
    "n = 10\n",
    "na = 4\n",
    "w = 0.1\n",
    "gamma = 0.8\n",
    "# estimation step epsilon\n",
    "eps = 0.01\n",
    "\n",
    "env1 = Environment(n, na, w, gamma, reward1)\n",
    "steps, shots, pi_1, V_1 = value_iteration(env1, eps, snapshots=True)"
   ]
  },
  {
   "cell_type": "code",
   "execution_count": null,
   "metadata": {},
   "outputs": [],
   "source": [
    "plot_grid_value(n, V_1, 'Optimal value of states using Reward 1')"
   ]
  },
  {
   "cell_type": "code",
   "execution_count": null,
   "metadata": {
    "scrolled": false
   },
   "outputs": [],
   "source": [
    "for i, shot in enumerate(shots):\n",
    "    plot_grid_value(n, shot, 'Snapshot {} of 5, step {} of {}'.format(i+1, (i+1)*(steps//5), steps)) "
   ]
  },
  {
   "cell_type": "markdown",
   "metadata": {},
   "source": [
    "#### Question 3: \n",
    "Generate a heat map of the optimal state values across the 2-D grid. For generating the heat map, you can use the same function provided in the hint earlier (see the hint after question 1)."
   ]
  },
  {
   "cell_type": "code",
   "execution_count": null,
   "metadata": {},
   "outputs": [],
   "source": [
    "plot_heatmap(V_1, 'Heat map of Optimal values using Reward 1')"
   ]
  },
  {
   "cell_type": "markdown",
   "metadata": {},
   "source": [
    "#### Question 4: \n",
    "Explain the distribution of the optimal state values across the 2-D grid. (Hint: Use the figure generated in *Question 3* to explain)\n",
    "\n",
    "**Will be stated in the report.**\n",
    "\n",
    "#### Question 5:  \n",
    "Implement the computation step of the value iteration algorithm (lines 14-17) to compute the optimal policy of the agent navigating the 2-D state-space. For visualization purpose, you should generate a figure similar to that of *Figure 1* but with the number of state replaced by the optimal action at that state. The optimal actions should be displayed using arrows. Does the optimal policy of the agent match your intuition? Please provide a brief explanation. Is it possible for the agent to compute the optimal action to take at each state by observing the optimal values of it’s neighboring states? In this question, you should have 1 plot."
   ]
  },
  {
   "cell_type": "code",
   "execution_count": null,
   "metadata": {},
   "outputs": [],
   "source": [
    "plot_policy(n, pi_1, 'Optimal policy showing in arrows using Reward 1')"
   ]
  },
  {
   "cell_type": "markdown",
   "metadata": {},
   "source": [
    "#### Question 6:  \n",
    "Modify the environment of the agent by replacing Reward function 1 with Reward function 2. Use the optimal state-value function implemented in question 2 to compute the optimal value of each state in the grid. For visualization purpose, you should generate a figure similar to that of figure 1 but with the number of state replaced by the optimal value of that state. In this question, you should have 1 plot."
   ]
  },
  {
   "cell_type": "code",
   "execution_count": null,
   "metadata": {},
   "outputs": [],
   "source": [
    "env2 = Environment(n, na, w, gamma, reward2)\n",
    "pi_2, V_2 = value_iteration(env2, eps)"
   ]
  },
  {
   "cell_type": "code",
   "execution_count": null,
   "metadata": {},
   "outputs": [],
   "source": [
    "plot_grid_value(n, V_2, 'Optimal value of states using Reward 2')"
   ]
  },
  {
   "cell_type": "markdown",
   "metadata": {},
   "source": [
    "#### Question 7:\n",
    "Generate a heat map of the optimal state values (found in question 6) across the 2-D grid. For generating the heat map, you can use the same function provided in the hint earlier. Explain the distribution of the optimal state values across the 2-D grid. (Hint: Use the figure generated in this question to explain)"
   ]
  },
  {
   "cell_type": "code",
   "execution_count": null,
   "metadata": {},
   "outputs": [],
   "source": [
    "plot_heatmap(V_2, 'Heat map of optimal values using Reward 2')"
   ]
  },
  {
   "cell_type": "markdown",
   "metadata": {},
   "source": [
    "#### Question 8:\n",
    "Implement the computation step of the value iteration algorithm (lines 14-17) to compute the optimal policy of the agent navigating the 2-D state-space. For visualization purpose, you should generate a figure similar to that of figure 1 but with the number of state replaced by the optimal action at that state. The optimal actions should be displayed using arrows. Does the optimal policy of the agent match your intuition? Please provide a brief explanation. In this question, you should have 1 plot."
   ]
  },
  {
   "cell_type": "code",
   "execution_count": null,
   "metadata": {},
   "outputs": [],
   "source": [
    "plot_policy(n, pi_2, 'Optimal policy showing in arrows using Reward 2')"
   ]
  },
  {
   "cell_type": "markdown",
   "metadata": {},
   "source": [
    "#### Question 9:\n",
    "Change the hyper parameter $w$ to 0.6 and find the optimal policy map similar to previous question for reward functions. Explain the differences you observe. What do you think about value of new $w$ compared to previous value? Choose the $w$ that you think give rise to better optimal policy and use that w for the next stages of the project.\n",
    "\n",
    "$w$ = 0.1 gives better optimal policy."
   ]
  },
  {
   "cell_type": "code",
   "execution_count": null,
   "metadata": {},
   "outputs": [],
   "source": [
    "# For reward function 1:\n",
    "env1.set_w(0.6)\n",
    "pi_1, _ = value_iteration(env1, eps)\n",
    "plot_policy(n, pi_1, 'Optimal policy showing in arrows using Reward 1, w=0.6')\n",
    "\n",
    "# For reward function 2:\n",
    "env2.set_w(0.6)\n",
    "pi_2, _ = value_iteration(env2, eps)\n",
    "plot_policy(n, pi_2, 'Optimal policy showing in arrows using Reward 2, w=0.6')"
   ]
  },
  {
   "cell_type": "markdown",
   "metadata": {},
   "source": [
    "## 4. Inverse Reinforcement Learning\n",
    "Inverse Reinforcement learning (IRL) is the task of learning an expert's reward\n",
    "function by observing the optimal behavior of the expert. The motivation for\n",
    "IRL comes from apprenticeship learning. In apprenticeship learning, the goal of\n",
    "the agent is to learn a policy by observing the behavior of an expert. This task\n",
    "can be accomplished in two ways:\n",
    "1. Learn the policy directly from expert behavior\n",
    "2. Learn the expert's reward function and use it to generate the optimal policy\n",
    "\n",
    "The second way is preferred because the reward function provides a much more\n",
    "parsimonious description of behavior. Reward function, rather than the policy,\n",
    "is the most succinct, robust, and transferable definition of the task. There-\n",
    "fore, extracting the reward function of an expert would help design more robust\n",
    "agents.\n",
    "\n",
    "In this part of the project, we will use IRL algorithm to extract the reward\n",
    "function. We will use the optimal policy computed in the previous section as\n",
    "the expert behavior and use the algorithm to extract the reward function of\n",
    "the expert. Then, we will use the extracted reward function to compute the\n",
    "optimal policy of the agent. We will compare the optimal policy of the agent\n",
    "to the optimal policy of the expert and use some similarity metric between the\n",
    "two to measure the performance of the IRL algorithm."
   ]
  },
  {
   "cell_type": "markdown",
   "metadata": {},
   "source": [
    "### 4.1 IRL algorithm\n",
    "For finite state spaces, there are a couple of IRL algorithms for extracting the reward function:\n",
    "- Linear Programming (LP) Formulation\n",
    "- Maximum Entropy Formulation\n",
    "\n",
    "Since we covered LP formulation in the lecture and it is the simplest IRL algorithm, so we will use the LP formulation in this project. We will skip the derivation of the algorithm here. The LP formulation of the IRL is given by Equation 1\n",
    "![title](img/IRL_1.png)"
   ]
  },
  {
   "cell_type": "markdown",
   "metadata": {},
   "source": [
    "#### Question 10:\n",
    "Express **c**, **x**, **D**, **b** in terms of **R**, **P**$_a$, **P**$_{a1}$, *t*$_i$, **u**, $\\lambda$ and *R*$_{max}$."
   ]
  },
  {
   "cell_type": "markdown",
   "metadata": {},
   "source": [
    "- $c = \\begin{bmatrix} 1_{|S|\\times1} \\\\ -\\lambda_{|S|\\times1} \\\\ 0_{|S|\\times1} \\\\ \\end{bmatrix} \\in \\mathbb{R}^{300\\times 1}$\n",
    "\n",
    "- $x = \\begin{bmatrix} t \\\\ u \\\\ R\\\\ \\end{bmatrix} \\in \\mathbb{R}^{300\\times 1}$\n",
    "\n",
    "- $D = \\begin{bmatrix}\n",
    "        I_{|S|\\times|S|} & 0 & (P_a - P_{a_1})(I - \\gamma P_{a_1})^{-1} \\\\\n",
    "        0 & 0 & (P_{a_2} - P_{a_1})(I - \\gamma P_{a_1})^{-1} \\\\\n",
    "        I_{|S|\\times|S|} & 0 & (P_{a_2} - P_{a_1})(I - \\gamma P_{a_1})^{-1} \\\\\n",
    "        0 & 0 & (P_{a_2} - P_{a_1})(I - \\gamma P_{a_1})^{-1} \\\\\n",
    "        I_{|S|\\times|S|} & 0 & (P_{a_3} - P_{a_1})(I - \\gamma P_{a_1})^{-1} \\\\\n",
    "        0 & 0 & (P_{a_3} - P_{a_1})(I - \\gamma P_{a_1})^{-1} \\\\\n",
    "        I_{|S|\\times|S|} & 0 & (P_{a_4} - P_{a_1})(I - \\gamma P_{a_1})^{-1} \\\\\n",
    "        0 & 0 & (P_{a_4} - P_{a_1})(I - \\gamma P_{a_1})^{-1} \\\\\n",
    "        0 & -I_{|S|\\times|S|} & I_{|S|\\times|S|} \\\\\n",
    "        0 & -I_{|S|\\times|S|} & -I_{|S|\\times|S|} \\\\\n",
    "        0 & 0 & I_{|S|\\times|S|}\\\\\n",
    "        0 & 0 & -I_{|S|\\times|S|}\\\\\n",
    "        \\end{bmatrix} \\in \\mathbb{R}^{1000\\times 300}$\n",
    "        \n",
    "- $b = \\begin{bmatrix} \n",
    "        0_{8|S|\\times1} \\\\\n",
    "        {(R_{max})}_{2|S|\\times1} \\\\\n",
    "      \\end{bmatrix} \\in \\mathbb{R}^{1000\\times 1}$\n",
    "        \n"
   ]
  },
  {
   "cell_type": "markdown",
   "metadata": {},
   "source": [
    "### 4.2 Performance measure\n",
    "In this project, we use a very simple measure to evaluate the performance of the IRL algorithm. Before we state the performance measure, let's introduce some notation:\n",
    "![title](img/IRL_2.png)\n",
    "\n",
    "Since we are using the optimal policy found in the previous section as the expert behavior, so we will use the optimal policy found in the previous section to fill the *O*$_E$(*s*) values. Please note that these values will be different depending on whether we used Reward Function 1 or Reward Function 2 to create the environment.\n",
    "\n",
    "To compute *O*$_A$(*s*), we will solve the linear program given by Equation 2 to extract the reward function of the expert. For solving the linear program you can use the LP solver in python (from cvxopt import solvers and then use solvers.lp). Then, we will use the extracted reward function to compute the optimal policy of the agent using the value iteration algorithm you implemented in the previous section. The optimal policy of the agent found in this manner will be used to fill the *O*$_A$(*s*) values. Please note that these values will depend on the adjustable penalty coefficient $\\lambda$. We will tune $\\lambda$ to maximize the accuracy."
   ]
  },
  {
   "cell_type": "code",
   "execution_count": null,
   "metadata": {},
   "outputs": [],
   "source": [
    "# Optical Policy from Question 5 for O_E(s)\n",
    "n = 10\n",
    "na = 4\n",
    "w = 0.1\n",
    "gamma = 0.8\n",
    "eps = 0.01\n",
    "\n",
    "env1 = Environment(n, na, w, gamma, reward1)\n",
    "steps, shots, pi_1, V_1 = value_iteration(env1, eps, snapshots=True)\n",
    "\n",
    "plot_policy(n, pi_1, 'Optimal policy showing in arrows using Reward 1 (Q5)')"
   ]
  },
  {
   "cell_type": "code",
   "execution_count": null,
   "metadata": {},
   "outputs": [],
   "source": [
    "from cvxopt import matrix, solvers\n",
    "\n",
    "N_states = n * n\n",
    "N_actions = 4\n",
    "w = 0.1\n",
    "\n",
    "def get_transition_states_and_probs(self, state, action):\n",
    "    \"\"\"\n",
    "    get all the possible transition states and their probabilities with [action] on [state]\n",
    "    args\n",
    "      state     (y, x)\n",
    "      action    int\n",
    "    returns\n",
    "      a list of (state, probability) pair\n",
    "    \"\"\"\n",
    "    # TO DO\n",
    "    \n",
    "# Construct transition matrix\n",
    "def get_transition_matrix(N_states, N_actions, policy, w):\n",
    "    \"\"\"\n",
    "    get transition of the square grid world\n",
    "    \n",
    "    return:\n",
    "    transition probability matrix\n",
    "    P_a       N_state x N_state x N_actions\n",
    "    p_a[s0, s1, a] transition probability from s0 to s1 with action a\n",
    "    \"\"\"\n",
    "    transition_matrix = np.zeros((N_states, N_states))\n",
    "    for state in range(N_states):\n",
    "        position = self.idx2pos(state)\n",
    "        for action in range(N_actions):\n",
    "            state_probs = self.get_transition_states_and_probs(position, action)\n",
    "            \n",
    "            for next_position, prob in state_probs:\n",
    "                next_state = self.pos2idc(next_position)\n",
    "                P_a[state, next_state, a] = prob\n",
    "    return P_a\n",
    "        \n",
    "\n",
    "def get_LP_terms(P_actions, expert_actions, lambd, r_max):\n",
    "    # P_optimal (P_a1), P_a2, P_a3, P_a4\n",
    "    # Transition matrices\n",
    "    P_optimal = []\n",
    "    P_action = []\n",
    "    \n",
    "    # Number of states\n",
    "    S = 100 \n",
    "    # Number of actions\n",
    "    A = 4\n",
    "    \n",
    "    for state in range(S):\n",
    "        optimal_action = expert_actions[state]\n",
    "        agent = 0\n",
    "        for action in range(A):\n",
    "            if action == optimal_action:\n",
    "                P_optimal.append(P_actions[action][state])\n",
    "            else: \n",
    "                P_action[action].append(P_actions[action[state]])\n",
    "                agent += 1\n",
    "      \n",
    "    # Construct matrix D\n",
    "    I = np.identity(S)\n",
    "    zeros = np.zeros((S,S))\n",
    "    # Construct bottom 4 rows of matrix D\n",
    "    D = np.concatenate(((zeros, zeros, zeros, zeros), np.concatenate((-I, -I, zero, zero)), \n",
    "                        np.concatenate((I, -I, I, -I))), axis = 1)\n",
    "    \n",
    "    # Append top 2 * 3 rows of matrix D\n",
    "    for P_a in P_action:\n",
    "        # (P_a - P_{a_1})(I - \\gamma P_{a_1})^{-1} a(i) where i = 2, 3, 4\n",
    "        diff = np.dot((np.array(Pa) - np.array(P_optimal)), np.linalg.inv(I - gamma * np.array(P_optimal)))\n",
    "        D_row1 = np.hstack((I, zero, diff))\n",
    "        D_row2 = np.hstack((zero, zero, temp))\n",
    "        D_top = np.vstack((D_row1, D_row2))\n",
    "        D = np.hstack((D_top, D))\n",
    "        \n",
    "     # Construct vector c\n",
    "    c_1 = np.array([1 for _ in range(S)])\n",
    "    c_2 = np.array([-lambd for _ in range(S)])\n",
    "    c_3 = np.array([0 for _ in range(S)])\n",
    "    c = np.hstack(c_1, c_2, c_3)\n",
    "    print('c shape', c.shape)\n",
    "    \n",
    "    # Construct vector b\n",
    "    b_1 = np.array([0 for _ in range(4*S)])\n",
    "    b_2 = np.array([r_max for _ in range(S)])\n",
    "    b = np.hstack(b_1, b_2)\n",
    "    return c, D, b\n",
    "\n",
    "# Solve the linear programming problem\n",
    "def get_reward(c, D, b):\n",
    "    # min -cTx s.t. Dx<=b\n",
    "    x = solvers.lp(c, D, b)['x']\n",
    "    reward = x[-100:]\n",
    "    return reward\n",
    " "
   ]
  },
  {
   "cell_type": "code",
   "execution_count": null,
   "metadata": {},
   "outputs": [],
   "source": [
    "# For expert in Q5 \n",
    "env1 = Environment(n, na, w, gamma, reward1)\n",
    "expert_pi, V_1 = value_iteration(env1, eps, snapshots=False)\n",
    "\n",
    "max_lambda = 5\n",
    "N_lambda = 500\n",
    "accuracy = np.zeros(N_lambda)\n",
    "r_max = 1 #TO-DO\n",
    "\n",
    "import time\n",
    "t = time.time()\n",
    "for i, lamb_sweep in enumerate(np.linspace(0, max_lambda, N_lambda)):\n",
    "    if ((i + 1) % 50) == 0:\n",
    "        print(\"%d of %d complete in %f sec.\" %(i, N_lambda, time.time()-t1))\n",
    "        t = time.time()\n",
    "    c, D, b = get_LP_terms(P_actions, pi_1, lamb_sweep, r_max)\n",
    "    r_agent = get_reward(c, D, b)\n",
    "    env = Environment(n, na, w, gamma, r_agent)\n",
    "    agent_pi, V = value_iteration(env, eps, snapshots=False)\n",
    "    \n",
    "    for i in range(N_lambda):\n",
    "        if (expert_pi[i] == agent_pi[i]):\n",
    "            accuracy[i] = 1\n",
    "    accuracy = np.sum(accuracy)/N_lambda\n",
    "    \n",
    "plt.plot(np.linspace(0,max_lambda,N_lambda),accuracy)\n",
    "plt.xlabel('λ', fontsize = 16)\n",
    "plt.ylabel('Accuracy of the IRL algorithm')\n",
    "plt.show()"
   ]
  },
  {
   "cell_type": "markdown",
   "metadata": {},
   "source": [
    "#### Question 11: \n",
    "Sweep $\\lambda$ from 0 to 5 to get 500 evenly spaced values for $\\lambda$. For each value of $\\lambda$ compute *O*$_A$(*s*) by following the process described above. For this problem, use the optimal policy of the agent found in *Question 5* to fill in the *O*$_E$(*s*) values. Then use *Equation 3* to compute the accuracy of the IRL algorithm for this value of $\\lambda$. You need to repeat the above process for all 500 values of $\\lambda$ to get 500 data points. \n",
    "\n",
    "Plot $\\lambda$ (x-axis) against Accuracy (y-axis). In this question, you should have 1 plot."
   ]
  },
  {
   "cell_type": "markdown",
   "metadata": {},
   "source": [
    "#### Question 12:\n",
    "Use the plot in question 11 to compute the value of $\\lambda$ for which accuracy is maximum. For future reference we will denote this value as $\\lambda^{(1)}$$_{max}$. Report $\\lambda^{(1)}$$_{max}$."
   ]
  },
  {
   "cell_type": "code",
   "execution_count": null,
   "metadata": {},
   "outputs": [],
   "source": [
    "env1."
   ]
  },
  {
   "cell_type": "markdown",
   "metadata": {},
   "source": [
    "#### Question 13: \n",
    "For $\\lambda^{(1)}$$_{max}$,generate heat maps of the ground truth reward and the extracted reward. Please note that the ground truth reward is the Reward function 1 and the extracted reward is computed by solving the linear program given by equation 2 with the $\\lambda$ parameter set to $\\lambda^{(1)}$$_{max}$. In this question, you should have 2 plots."
   ]
  },
  {
   "cell_type": "code",
   "execution_count": null,
   "metadata": {},
   "outputs": [],
   "source": []
  },
  {
   "cell_type": "markdown",
   "metadata": {},
   "source": [
    "#### Question 14:\n",
    "Use the extracted reward function computed in question 13, to compute the optimal values of the states in the 2-D grid. For computing the optimal values you need to use the optimal state-value function that you wrote in *Question 2*. For visualization purpose, generate a heat map of the optimal state values across the 2-D grid (similar to the figure generated in\n",
    "question 3). In this question, you should have 1 plot."
   ]
  },
  {
   "cell_type": "code",
   "execution_count": null,
   "metadata": {},
   "outputs": [],
   "source": []
  },
  {
   "cell_type": "markdown",
   "metadata": {},
   "source": [
    "#### Question 15:\n",
    "Compare the heat maps of *Question 3* and *Question 14* and provide a brief explanation on their similarities and differences."
   ]
  },
  {
   "cell_type": "code",
   "execution_count": null,
   "metadata": {},
   "outputs": [],
   "source": []
  },
  {
   "cell_type": "markdown",
   "metadata": {},
   "source": [
    "#### Question 16:\n",
    "Use the extracted reward function found in *Question 13* to compute the optimal policy of the agent. For computing the optimal policy\n",
    "of the agent you need to use the function that you wrote in *Question 5*. For visualization purpose, you should generate a figure similar to that of *Figure 1* but\n",
    "with the number of state replaced by the optimal action at that state. The actions should be displayed using arrows. In this question, you should have 1 plot."
   ]
  },
  {
   "cell_type": "code",
   "execution_count": null,
   "metadata": {},
   "outputs": [],
   "source": []
  },
  {
   "cell_type": "markdown",
   "metadata": {},
   "source": [
    "#### Question 17:\n",
    "Compare the figures of *Question 5* and *Question 16* and provide a brief explanation on their similarities and differences."
   ]
  },
  {
   "cell_type": "code",
   "execution_count": null,
   "metadata": {},
   "outputs": [],
   "source": []
  },
  {
   "cell_type": "markdown",
   "metadata": {},
   "source": [
    "#### Question 18: \n",
    "Sweep $\\lambda$ from 0 to 5 to get 500 evenly spaced values for $\\lambda$. For each value of $\\lambda$ compute $O_A$($s$) by following the process described above. For this problem, use the optimal policy of the agent found in *Question 9* to fill in the $O_E$($s$) values. Then use *Equation 3* to compute the accuracy of the IRL algorithm for this value of $\\lambda$. You need to repeat the above process for all 500 values of $\\lambda$ to get 500 data points. Plot $\\lambda$ ($x$-axis) against Accuracy ($y$-axis). In this question, you should have 1 plot."
   ]
  },
  {
   "cell_type": "markdown",
   "metadata": {},
   "source": [
    "#### Question 23: \n",
    "Use the extracted reward function found in *Question 20* to compute the optimal policy of the agent. For computing the optimal policy of the agent you need to use the function that you wrote in *Question 9*. For visualization purpose, you should generate a figure similar to that of *Figure 1* but with the number of state replaced by the optimal action at that state. The actions should be displayed using arrows. In this question, you should have 1 plot."
   ]
  },
  {
   "cell_type": "markdown",
   "metadata": {},
   "source": [
    "#### Question 24:\n",
    "Compare the figures of *Question 9* and *Question 23* and provide a brief explanation on their similarities and differences."
   ]
  },
  {
   "cell_type": "markdown",
   "metadata": {},
   "source": [
    "#### Question 25: \n",
    "From the Figure in *Question 23*, you should observe that the optimal policy of the agent has two major discrepancies. Please identify and provide the causes for these two discrepancies. One of the discrepancy can be fixed easily by a slight modification to the value iteration algorithm. Perform this modification and re-run the modified value iteration algorithm to\n",
    "compute the optimal policy of the agent. Also, recompute the maximum accuracy after this modification. Is there a change in maximum accuracy? The second discrepancy is harder to fix and is a limitation of the simple IRL algorithm."
   ]
  },
  {
   "cell_type": "code",
   "execution_count": null,
   "metadata": {},
   "outputs": [],
   "source": []
  }
 ],
 "metadata": {
  "kernelspec": {
   "display_name": "Python 3",
   "language": "python",
   "name": "python3"
  },
  "language_info": {
   "codemirror_mode": {
    "name": "ipython",
    "version": 3
   },
   "file_extension": ".py",
   "mimetype": "text/x-python",
   "name": "python",
   "nbconvert_exporter": "python",
   "pygments_lexer": "ipython3",
   "version": "3.7.4"
  }
 },
 "nbformat": 4,
 "nbformat_minor": 2
}
