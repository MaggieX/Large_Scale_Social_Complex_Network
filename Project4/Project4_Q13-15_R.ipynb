{
 "cells": [
  {
   "cell_type": "code",
   "execution_count": 1,
   "metadata": {},
   "outputs": [
    {
     "name": "stderr",
     "output_type": "stream",
     "text": [
      "\n",
      "Attaching package: ‘igraph’\n",
      "\n",
      "\n",
      "The following objects are masked from ‘package:stats’:\n",
      "\n",
      "    decompose, spectrum\n",
      "\n",
      "\n",
      "The following object is masked from ‘package:base’:\n",
      "\n",
      "    union\n",
      "\n",
      "\n"
     ]
    }
   ],
   "source": [
    "library('igraph')"
   ]
  },
  {
   "cell_type": "code",
   "execution_count": 2,
   "metadata": {},
   "outputs": [],
   "source": [
    "create_graph_from_file = function(filename){\n",
    "    g= read_graph(filename , format = 'ncol', directed=FALSE)\n",
    "    return(g)\n",
    "}\n",
    "\n",
    "calc_max_flow = function(g, src, dest){\n",
    "    flow = max_flow(g,src,dest,capacity=as.vector(edge_attr(g)$weight))\n",
    "    return (flow$value)\n",
    "}"
   ]
  },
  {
   "cell_type": "code",
   "execution_count": 3,
   "metadata": {},
   "outputs": [],
   "source": [
    "src= 1522\n",
    "dest= 671"
   ]
  },
  {
   "cell_type": "markdown",
   "metadata": {},
   "source": [
    "# Question 13"
   ]
  },
  {
   "cell_type": "code",
   "execution_count": 4,
   "metadata": {},
   "outputs": [
    {
     "data": {
      "text/html": [
       "20165.74"
      ],
      "text/latex": [
       "20165.74"
      ],
      "text/markdown": [
       "20165.74"
      ],
      "text/plain": [
       "[1] 20165.74"
      ]
     },
     "metadata": {},
     "output_type": "display_data"
    }
   ],
   "source": [
    "g_triangle = read_graph('data/g_triangled_orig.txt' , format = 'ncol', directed=FALSE)\n",
    "flow = max_flow(g_triangle,src,dest,capacity=as.vector(edge_attr(g_triangle)$weight))\n",
    "flow$value"
   ]
  },
  {
   "cell_type": "code",
   "execution_count": 5,
   "metadata": {},
   "outputs": [],
   "source": [
    "# plot(g_triangle, vertex.size=1, vertex.label=NA)"
   ]
  },
  {
   "cell_type": "code",
   "execution_count": 6,
   "metadata": {},
   "outputs": [
    {
     "data": {
      "text/html": [
       "20165.74"
      ],
      "text/latex": [
       "20165.74"
      ],
      "text/markdown": [
       "20165.74"
      ],
      "text/plain": [
       "[1] 20165.74"
      ]
     },
     "metadata": {},
     "output_type": "display_data"
    }
   ],
   "source": [
    "flow_val = calc_max_flow(g_triangle,src,dest)\n",
    "flow_val"
   ]
  },
  {
   "cell_type": "code",
   "execution_count": 7,
   "metadata": {},
   "outputs": [],
   "source": [
    "ed_paths = edge_disjoint_paths(g_triangle,src,dest)"
   ]
  },
  {
   "cell_type": "code",
   "execution_count": 8,
   "metadata": {},
   "outputs": [
    {
     "data": {
      "text/html": [
       "7"
      ],
      "text/latex": [
       "7"
      ],
      "text/markdown": [
       "7"
      ],
      "text/plain": [
       "[1] 7"
      ]
     },
     "metadata": {},
     "output_type": "display_data"
    }
   ],
   "source": [
    "edge_connectivity(g_triangle,src,dest)"
   ]
  },
  {
   "cell_type": "code",
   "execution_count": 9,
   "metadata": {},
   "outputs": [],
   "source": [
    "# all_paths = all_simple_paths(g_triangle,src,to=dest)"
   ]
  },
  {
   "cell_type": "code",
   "execution_count": 10,
   "metadata": {},
   "outputs": [
    {
     "name": "stdout",
     "output_type": "stream",
     "text": [
      "[1] \"max flow:  20165.74\"\n",
      "[1] \"num of edge disjoint paths:  7\"\n"
     ]
    }
   ],
   "source": [
    "print(paste(\"max flow: \", flow$value))\n",
    "print(paste(\"num of edge disjoint paths: \", edge_disjoint_paths(g_triangle,src,dest)))"
   ]
  },
  {
   "cell_type": "code",
   "execution_count": 11,
   "metadata": {},
   "outputs": [],
   "source": [
    "# as.vector(edge_attr(g_triangle)$weight)"
   ]
  },
  {
   "cell_type": "markdown",
   "metadata": {},
   "source": [
    "# Question 15\n"
   ]
  },
  {
   "cell_type": "code",
   "execution_count": 12,
   "metadata": {},
   "outputs": [],
   "source": [
    "g_tri_pruned = read_graph('data/g_tri_pruned.txt' , format = 'ncol', directed=FALSE)\n"
   ]
  },
  {
   "cell_type": "code",
   "execution_count": 13,
   "metadata": {},
   "outputs": [
    {
     "data": {
      "text/html": [
       "12567.46"
      ],
      "text/latex": [
       "12567.46"
      ],
      "text/markdown": [
       "12567.46"
      ],
      "text/plain": [
       "[1] 12567.46"
      ]
     },
     "metadata": {},
     "output_type": "display_data"
    }
   ],
   "source": [
    "flow = max_flow(g_tri_pruned,src,dest,capacity=as.vector(edge_attr(g_tri_pruned)$weight))\n",
    "flow$value"
   ]
  },
  {
   "cell_type": "code",
   "execution_count": 14,
   "metadata": {},
   "outputs": [
    {
     "data": {
      "text/html": [
       "12567.46"
      ],
      "text/latex": [
       "12567.46"
      ],
      "text/markdown": [
       "12567.46"
      ],
      "text/plain": [
       "[1] 12567.46"
      ]
     },
     "metadata": {},
     "output_type": "display_data"
    }
   ],
   "source": [
    "calc_max_flow(g_tri_pruned,src,dest)"
   ]
  },
  {
   "cell_type": "code",
   "execution_count": 15,
   "metadata": {},
   "outputs": [
    {
     "data": {
      "text/html": [
       "4"
      ],
      "text/latex": [
       "4"
      ],
      "text/markdown": [
       "4"
      ],
      "text/plain": [
       "[1] 4"
      ]
     },
     "metadata": {},
     "output_type": "display_data"
    }
   ],
   "source": [
    "edge_disjoint_paths(g_tri_pruned,src,dest)"
   ]
  },
  {
   "cell_type": "code",
   "execution_count": null,
   "metadata": {},
   "outputs": [],
   "source": []
  }
 ],
 "metadata": {
  "kernelspec": {
   "display_name": "R",
   "language": "R",
   "name": "ir"
  },
  "language_info": {
   "codemirror_mode": "r",
   "file_extension": ".r",
   "mimetype": "text/x-r-source",
   "name": "R",
   "pygments_lexer": "r",
   "version": "3.6.3"
  }
 },
 "nbformat": 4,
 "nbformat_minor": 4
}
